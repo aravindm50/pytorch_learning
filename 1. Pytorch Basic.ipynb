{
 "cells": [
  {
   "cell_type": "code",
   "execution_count": 1,
   "id": "135a7389",
   "metadata": {},
   "outputs": [],
   "source": [
    "import torch"
   ]
  },
  {
   "cell_type": "markdown",
   "id": "2804d157",
   "metadata": {},
   "source": [
    "# Tensors"
   ]
  },
  {
   "cell_type": "markdown",
   "id": "30050b26",
   "metadata": {},
   "source": [
    "Tensor is a number, vector, matrix or n dimensional array"
   ]
  },
  {
   "cell_type": "code",
   "execution_count": 3,
   "id": "6de8a845",
   "metadata": {},
   "outputs": [],
   "source": [
    "t = torch.tensor(1)"
   ]
  },
  {
   "cell_type": "code",
   "execution_count": 4,
   "id": "1bdacac8",
   "metadata": {},
   "outputs": [
    {
     "data": {
      "text/plain": [
       "tensor(1)"
      ]
     },
     "execution_count": 4,
     "metadata": {},
     "output_type": "execute_result"
    }
   ],
   "source": [
    "t"
   ]
  },
  {
   "cell_type": "code",
   "execution_count": 6,
   "id": "d4ff31b3",
   "metadata": {},
   "outputs": [
    {
     "data": {
      "text/plain": [
       "torch.Tensor"
      ]
     },
     "execution_count": 6,
     "metadata": {},
     "output_type": "execute_result"
    }
   ],
   "source": [
    "type(t)"
   ]
  },
  {
   "cell_type": "code",
   "execution_count": 9,
   "id": "b069eb86",
   "metadata": {},
   "outputs": [
    {
     "data": {
      "text/plain": [
       "tensor([1, 2, 3])"
      ]
     },
     "execution_count": 9,
     "metadata": {},
     "output_type": "execute_result"
    }
   ],
   "source": [
    "tt = torch.tensor([1,2,3])\n",
    "tt"
   ]
  },
  {
   "cell_type": "code",
   "execution_count": 8,
   "id": "0689e358",
   "metadata": {},
   "outputs": [
    {
     "data": {
      "text/plain": [
       "torch.Tensor"
      ]
     },
     "execution_count": 8,
     "metadata": {},
     "output_type": "execute_result"
    }
   ],
   "source": [
    "type(tt)"
   ]
  },
  {
   "cell_type": "markdown",
   "id": "5033104d",
   "metadata": {},
   "source": [
    "Define multi dimensional tensors in list of lists with each list having same dimension as the first list\\"
   ]
  },
  {
   "cell_type": "code",
   "execution_count": 11,
   "id": "d9444ce4",
   "metadata": {},
   "outputs": [
    {
     "data": {
      "text/plain": [
       "tensor([[1.0000, 2.0000, 3.0000],\n",
       "        [4.0000, 5.6000, 7.9000]])"
      ]
     },
     "execution_count": 11,
     "metadata": {},
     "output_type": "execute_result"
    }
   ],
   "source": [
    "ttt = torch.tensor([[1,2,3],[4.0,5.6,7.9]])\n",
    "ttt"
   ]
  },
  {
   "cell_type": "code",
   "execution_count": 12,
   "id": "89c18cd7",
   "metadata": {},
   "outputs": [
    {
     "data": {
      "text/plain": [
       "torch.Tensor"
      ]
     },
     "execution_count": 12,
     "metadata": {},
     "output_type": "execute_result"
    }
   ],
   "source": [
    "type(ttt)"
   ]
  },
  {
   "cell_type": "markdown",
   "id": "e19a3c2c",
   "metadata": {},
   "source": [
    "## To find shape of tensor"
   ]
  },
  {
   "cell_type": "code",
   "execution_count": 13,
   "id": "64dac4dc",
   "metadata": {},
   "outputs": [
    {
     "data": {
      "text/plain": [
       "torch.Size([])"
      ]
     },
     "execution_count": 13,
     "metadata": {},
     "output_type": "execute_result"
    }
   ],
   "source": [
    "t.shape"
   ]
  },
  {
   "cell_type": "code",
   "execution_count": 14,
   "id": "dd9caf33",
   "metadata": {},
   "outputs": [
    {
     "data": {
      "text/plain": [
       "torch.Size([3])"
      ]
     },
     "execution_count": 14,
     "metadata": {},
     "output_type": "execute_result"
    }
   ],
   "source": [
    "tt.shape"
   ]
  },
  {
   "cell_type": "code",
   "execution_count": 15,
   "id": "08aa0765",
   "metadata": {},
   "outputs": [
    {
     "data": {
      "text/plain": [
       "torch.Size([2, 3])"
      ]
     },
     "execution_count": 15,
     "metadata": {},
     "output_type": "execute_result"
    }
   ],
   "source": [
    "ttt.shape"
   ]
  },
  {
   "cell_type": "markdown",
   "id": "8d77d8a9",
   "metadata": {},
   "source": [
    "# Tensor Operations and Gradients"
   ]
  },
  {
   "cell_type": "markdown",
   "id": "adb4ef27",
   "metadata": {},
   "source": [
    "To combine tensors using regular arthimetic operators in python"
   ]
  },
  {
   "cell_type": "code",
   "execution_count": 40,
   "id": "5557a7e5",
   "metadata": {},
   "outputs": [],
   "source": [
    "t1 = torch.tensor(3.)\n",
    "t2 = torch.tensor(2., requires_grad=True)\n",
    "t3 = torch.tensor(1., requires_grad=True)\n",
    "t4 = torch.tensor(4., requires_grad=True)"
   ]
  },
  {
   "cell_type": "code",
   "execution_count": 33,
   "id": "b225a6e5",
   "metadata": {},
   "outputs": [
    {
     "data": {
      "text/plain": [
       "tensor(6., grad_fn=<MulBackward0>)"
      ]
     },
     "execution_count": 33,
     "metadata": {},
     "output_type": "execute_result"
    }
   ],
   "source": [
    "t1*t2*t3"
   ]
  },
  {
   "cell_type": "code",
   "execution_count": 34,
   "id": "ad41d0cf",
   "metadata": {},
   "outputs": [
    {
     "data": {
      "text/plain": [
       "tensor(5., grad_fn=<AddBackward0>)"
      ]
     },
     "execution_count": 34,
     "metadata": {},
     "output_type": "execute_result"
    }
   ],
   "source": [
    "t1+t2*t3"
   ]
  },
  {
   "cell_type": "code",
   "execution_count": 35,
   "id": "da3b413b",
   "metadata": {},
   "outputs": [
    {
     "data": {
      "text/plain": [
       "tensor(0., grad_fn=<SubBackward0>)"
      ]
     },
     "execution_count": 35,
     "metadata": {},
     "output_type": "execute_result"
    }
   ],
   "source": [
    "t1-t2-t3"
   ]
  },
  {
   "cell_type": "code",
   "execution_count": 36,
   "id": "0afda0be",
   "metadata": {},
   "outputs": [
    {
     "data": {
      "text/plain": [
       "tensor(1.5000, grad_fn=<DivBackward0>)"
      ]
     },
     "execution_count": 36,
     "metadata": {},
     "output_type": "execute_result"
    }
   ],
   "source": [
    "t1/t2/t3"
   ]
  },
  {
   "cell_type": "markdown",
   "id": "ea8a269a",
   "metadata": {},
   "source": [
    "## Sometimes we may require to calculate derrivative of tensors, then we can use the property requires_grad=True"
   ]
  },
  {
   "cell_type": "markdown",
   "id": "30c54fe6",
   "metadata": {},
   "source": [
    "Pytorch backward used calculus to find the derivatives"
   ]
  },
  {
   "cell_type": "code",
   "execution_count": 41,
   "id": "98ef0111",
   "metadata": {},
   "outputs": [],
   "source": [
    "l = t1 + t2 + t3*t4"
   ]
  },
  {
   "cell_type": "code",
   "execution_count": 42,
   "id": "1e50fc80",
   "metadata": {},
   "outputs": [],
   "source": [
    "l.backward()"
   ]
  },
  {
   "cell_type": "markdown",
   "id": "de8d4094",
   "metadata": {},
   "source": [
    "To get derivative of variable with respect to another, compute grad"
   ]
  },
  {
   "cell_type": "code",
   "execution_count": 44,
   "id": "1fb6c667",
   "metadata": {},
   "outputs": [
    {
     "name": "stdout",
     "output_type": "stream",
     "text": [
      "dl/dt1 None\n",
      "dl/dt2 tensor(1.)\n",
      "dl/dt3 tensor(4.)\n",
      "dl/dt4 tensor(1.)\n"
     ]
    }
   ],
   "source": [
    "print('dl/dt1', t1.grad)\n",
    "print('dl/dt2', t2.grad)\n",
    "print('dl/dt3', t3.grad)\n",
    "print('dl/dt4', t4.grad)"
   ]
  },
  {
   "cell_type": "markdown",
   "id": "918566c9",
   "metadata": {},
   "source": [
    "# To use with Numpy"
   ]
  },
  {
   "cell_type": "code",
   "execution_count": 45,
   "id": "41f87dda",
   "metadata": {},
   "outputs": [],
   "source": [
    "import numpy as np"
   ]
  },
  {
   "cell_type": "code",
   "execution_count": 47,
   "id": "33354572",
   "metadata": {},
   "outputs": [],
   "source": [
    "n = np.array([[1,2],[3,4]])"
   ]
  },
  {
   "cell_type": "markdown",
   "id": "3aff03ad",
   "metadata": {},
   "source": [
    "from_numpy does not create copy of the data where tensor creates a copy of the data"
   ]
  },
  {
   "cell_type": "code",
   "execution_count": 48,
   "id": "271b8ed9",
   "metadata": {},
   "outputs": [],
   "source": [
    "tn = torch.from_numpy(n)"
   ]
  },
  {
   "cell_type": "code",
   "execution_count": 52,
   "id": "21d43005",
   "metadata": {},
   "outputs": [],
   "source": [
    "tn1 = torch.tensor(n)"
   ]
  },
  {
   "cell_type": "code",
   "execution_count": 53,
   "id": "3fc6d655",
   "metadata": {},
   "outputs": [
    {
     "data": {
      "text/plain": [
       "(dtype('int32'), torch.int32, torch.int32)"
      ]
     },
     "execution_count": 53,
     "metadata": {},
     "output_type": "execute_result"
    }
   ],
   "source": [
    "n.dtype, tn.dtype, tn1.dtype"
   ]
  },
  {
   "cell_type": "code",
   "execution_count": 56,
   "id": "e8fe126d",
   "metadata": {},
   "outputs": [
    {
     "data": {
      "text/plain": [
       "array([[1, 2],\n",
       "       [3, 4]])"
      ]
     },
     "execution_count": 56,
     "metadata": {},
     "output_type": "execute_result"
    }
   ],
   "source": [
    "ntn = tn.numpy()\n",
    "ntn"
   ]
  },
  {
   "cell_type": "code",
   "execution_count": 57,
   "id": "1e56a017",
   "metadata": {},
   "outputs": [
    {
     "data": {
      "text/plain": [
       "numpy.ndarray"
      ]
     },
     "execution_count": 57,
     "metadata": {},
     "output_type": "execute_result"
    }
   ],
   "source": [
    "type(ntn)"
   ]
  }
 ],
 "metadata": {
  "kernelspec": {
   "display_name": "Python 3 (ipykernel)",
   "language": "python",
   "name": "python3"
  },
  "language_info": {
   "codemirror_mode": {
    "name": "ipython",
    "version": 3
   },
   "file_extension": ".py",
   "mimetype": "text/x-python",
   "name": "python",
   "nbconvert_exporter": "python",
   "pygments_lexer": "ipython3",
   "version": "3.8.10"
  }
 },
 "nbformat": 4,
 "nbformat_minor": 5
}
